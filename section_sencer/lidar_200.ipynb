{
 "cells": [
  {
   "cell_type": "markdown",
   "metadata": {},
   "source": [
    "2.1度数分布と確率分布"
   ]
  },
  {
   "cell_type": "code",
   "execution_count": 1,
   "metadata": {},
   "outputs": [],
   "source": [
    "import pandas as pd\n",
    "data=pd.read_csv(\"sensor_data_200.txt\",delimiter=\" \", header=None,names=(\"date\",\"time\",\"ir\",\"lidar\"))\n",
    "import matplotlib.pyplot as plt"
   ]
  },
  {
   "cell_type": "code",
   "execution_count": 11,
   "metadata": {},
   "outputs": [
    {
     "name": "stdout",
     "output_type": "stream",
     "text": [
      "           date    time   ir  lidar\n",
      "0      20180122   95819  305    214\n",
      "1      20180122   95822  299    211\n",
      "2      20180122   95826  292    199\n",
      "3      20180122   95829  321    208\n",
      "4      20180122   95832  298    212\n",
      "...         ...     ...  ...    ...\n",
      "58983  20180124  120023  313    208\n",
      "58984  20180124  120026  297    200\n",
      "58985  20180124  120030  323    204\n",
      "58986  20180124  120033  326    207\n",
      "58987  20180124  120036  321    208\n",
      "\n",
      "[58988 rows x 4 columns]\n"
     ]
    }
   ],
   "source": [
    "print(data)\n"
   ]
  },
  {
   "cell_type": "code",
   "execution_count": 16,
   "metadata": {},
   "outputs": [
    {
     "name": "stdout",
     "output_type": "stream",
     "text": [
      "0    214\n",
      "1    211\n",
      "2    199\n",
      "3    208\n",
      "4    212\n",
      "Name: lidar, dtype: int64\n"
     ]
    }
   ],
   "source": [
    "print(data[\"lidar\"][0:5])\n"
   ]
  },
  {
   "cell_type": "code",
   "execution_count": 17,
   "metadata": {},
   "outputs": [
    {
     "data": {
      "image/png": "[encoded data removed]",
      "text/plain": [
       "<Figure size 432x288 with 1 Axes>"
      ]
     },
     "metadata": {
      "needs_background": "light"
     },
     "output_type": "display_data"
    }
   ],
   "source": [
    "data[\"lidar\"].hist(bins=max(data[\"lidar\"])-min(data[\"lidar\"]),align=\"left\")\n",
    "plt.show()"
   ]
  },
  {
   "cell_type": "code",
   "execution_count": 4,
   "metadata": {},
   "outputs": [
    {
     "name": "stdout",
     "output_type": "stream",
     "text": [
      "209.73713297620998\n"
     ]
    }
   ],
   "source": [
    "mean1=sum(data[\"lidar\"].values/len(data[\"lidar\"].values))\n",
    "print(mean1)"
   ]
  },
  {
   "cell_type": "code",
   "execution_count": 5,
   "metadata": {},
   "outputs": [
    {
     "data": {
      "image/png": "[encoded data removed]",
      "text/plain": [
       "<Figure size 432x288 with 1 Axes>"
      ]
     },
     "metadata": {
      "needs_background": "light"
     },
     "output_type": "display_data"
    }
   ],
   "source": [
    "data[\"lidar\"].hist(bins=max(data[\"lidar\"])-min(data[\"lidar\"]),align=\"left\")\n",
    "plt.vlines(mean1,ymin=0,ymax=5000,color=\"red\")\n",
    "plt.show()"
   ]
  },
  {
   "cell_type": "code",
   "execution_count": 12,
   "metadata": {},
   "outputs": [
    {
     "name": "stdout",
     "output_type": "stream",
     "text": [
      "23.407709770274106\n",
      "23.40810659855441\n",
      "23.407709770274106\n",
      "23.40810659855441\n",
      "23.407709770274106\n",
      "23.40810659855441\n"
     ]
    }
   ],
   "source": [
    "#定義から標準分散\n",
    "zs=data[\"lidar\"].values\n",
    "mean=sum(zs)/len(zs)\n",
    "diff_square=[(z-mean)**2 for z in zs]\n",
    "\n",
    "sampling_var=sum(diff_square)/(len(zs))\n",
    "unbiased_var=sum(diff_square)/(len(zs)-1)\n",
    "\n",
    "print(sampling_var)\n",
    "print(unbiased_var)\n",
    "\n",
    "#Pandas\n",
    "pandas_sampling_var=data[\"lidar\"].var(ddof=0)\n",
    "pandas_default_var=data[\"lidar\"].var()\n",
    "print(pandas_sampling_var)\n",
    "print(pandas_default_var)\n",
    "\n",
    "#NumPy\n",
    "import numpy as np\n",
    "numpy_default_var=np.var(data[\"lidar\"])\n",
    "numpy_unbiased_var=np.var(data[\"lidar\"],ddof=1)\n",
    "print(numpy_default_var)\n",
    "print(numpy_unbiased_var)\n",
    "\n"
   ]
  },
  {
   "cell_type": "code",
   "execution_count": 13,
   "metadata": {},
   "outputs": [
    {
     "name": "stdout",
     "output_type": "stream",
     "text": [
      "4.838151482774605\n",
      "4.83819249292072\n",
      "4.83819249292072\n"
     ]
    }
   ],
   "source": [
    "import math\n",
    "#定義\n",
    "stddev1=math.sqrt(sampling_var)\n",
    "stddev2=math.sqrt(unbiased_var)\n",
    "#Pandas\n",
    "pandas_stddey=data[\"lidar\"].std()\n",
    "\n",
    "print(stddev1)\n",
    "print(stddev2)\n",
    "print(pandas_stddey)\n"
   ]
  },
  {
   "cell_type": "code",
   "execution_count": 3,
   "metadata": {},
   "outputs": [],
   "source": [
    "freqs=pd.DataFrame(data[\"lidar\"].value_counts())\n",
    "#freqs.transpose()"
   ]
  },
  {
   "cell_type": "code",
   "execution_count": null,
   "metadata": {},
   "outputs": [],
   "source": []
  }
 ],
 "metadata": {
  "kernelspec": {
   "display_name": "Python 3",
   "language": "python",
   "name": "python3"
  },
  "language_info": {
   "codemirror_mode": {
    "name": "ipython",
    "version": 3
   },
   "file_extension": ".py",
   "mimetype": "text/x-python",
   "name": "python",
   "nbconvert_exporter": "python",
   "pygments_lexer": "ipython3",
   "version": "3.8.3"
  }
 },
 "nbformat": 4,
 "nbformat_minor": 4
}
